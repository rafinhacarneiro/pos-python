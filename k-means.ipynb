{
 "cells": [
  {
   "cell_type": "markdown",
   "metadata": {},
   "source": [
    "### Criando dados para trabalho\n",
    "\n",
    "```make_blobs``` gera dados clusterizados.\n",
    "\n",
    "```python\n",
    "make_blobs(\n",
    "    300,                 # Quantidade de eventos\n",
    "    centers=4,           # Quantidade de clusters\n",
    "    cluster_std=0.6,     # Desvio padrão dos dados\n",
    "    random_state=0       # Indica se os dados são aleatórios ou não à cada execução\n",
    ")\n",
    "```"
   ]
  },
  {
   "cell_type": "code",
   "execution_count": 1,
   "metadata": {},
   "outputs": [
    {
     "name": "stdout",
     "output_type": "stream",
     "text": [
      "[[ 8.36856841e-01  2.13635938e+00]\n",
      " [-1.41365810e+00  7.40962324e+00]\n",
      " [ 1.15521298e+00  5.09961887e+00]\n",
      " [-1.01861632e+00  7.81491465e+00]\n",
      " [ 1.27135141e+00  1.89254207e+00]\n",
      " [ 3.43761754e+00  2.61654166e-01]\n",
      " [-1.80822253e+00  1.59701749e+00]\n",
      " [ 1.41372442e+00  4.38117707e+00]\n",
      " [-2.04932168e-01  8.43209665e+00]\n",
      " [-7.11099611e-01  8.66043846e+00]\n",
      " [-1.71237268e+00  2.77780226e+00]\n",
      " [-2.67000792e+00  8.35389140e+00]\n",
      " [ 1.24258802e+00  4.50399192e+00]\n",
      " [-2.22783649e+00  6.89479938e+00]\n",
      " [ 1.45513831e+00 -2.91989981e-02]\n",
      " [ 4.53791789e-01  3.95647753e+00]\n",
      " [ 1.06923853e+00  4.53068484e+00]\n",
      " [ 2.56936589e+00  5.07048304e-01]\n",
      " [-1.06690610e+00  3.13165795e+00]\n",
      " [-1.07859101e+00  2.20451529e+00]\n",
      " [ 2.71506328e+00  1.29082190e+00]\n",
      " [ 1.77710994e+00  1.18655254e+00]\n",
      " [ 7.34363910e-01  5.03725437e+00]\n",
      " [-1.99648151e+00  2.85164868e+00]\n",
      " [-1.91828017e+00  2.60516867e+00]\n",
      " [-5.55523811e-01  4.69595848e+00]\n",
      " [ 1.69747910e+00  8.66123282e-01]\n",
      " [ 5.94762432e-01  4.70964730e+00]\n",
      " [-2.88024255e+00  2.30437816e+00]\n",
      " [ 1.86725632e-01  4.02683656e+00]\n",
      " [-5.13333436e-01  7.87437368e+00]\n",
      " [-2.05701103e+00  7.37851598e+00]\n",
      " [ 1.87271752e+00  4.18069237e+00]\n",
      " [-1.13121396e+00  6.76652230e+00]\n",
      " [-1.64428957e+00  7.94095139e+00]\n",
      " [-2.41933824e+00  7.43952498e+00]\n",
      " [-2.01606928e+00  7.48420129e+00]\n",
      " [-2.62142780e+00  7.98635066e+00]\n",
      " [-2.20299950e+00  2.47947561e+00]\n",
      " [ 1.66382237e+00  6.63091635e-01]\n",
      " [ 6.69786996e-01  3.59540802e+00]\n",
      " [-1.98539037e+00  2.05520738e+00]\n",
      " [-4.74920358e-02  5.47425256e+00]\n",
      " [ 1.54462126e+00  4.21078127e+00]\n",
      " [-1.70200643e+00  2.46098693e+00]\n",
      " [-1.02192525e+00  2.76820711e+00]\n",
      " [-1.37842552e+00  8.10269597e+00]\n",
      " [-1.55220688e+00  2.74574995e+00]\n",
      " [-1.47904303e+00  7.56915836e+00]\n",
      " [ 1.98894313e+00  1.50976729e+00]\n",
      " [-1.94972418e+00  3.48383870e+00]\n",
      " [ 2.45509737e+00  6.21231788e-01]\n",
      " [-8.94327882e-01  7.61714473e+00]\n",
      " [ 1.69687788e+00  7.54910622e-01]\n",
      " [ 1.75644805e+00  2.05538289e+00]\n",
      " [-1.11064012e+00  2.82213820e+00]\n",
      " [-4.15017659e-02  7.80870276e+00]\n",
      " [-1.14091533e+00  1.97550822e+00]\n",
      " [-1.80634968e+00  7.72830656e+00]\n",
      " [ 1.39263752e+00  9.28962707e-01]\n",
      " [-2.25698670e+00  7.30207720e+00]\n",
      " [ 5.71670482e-01  4.32288566e+00]\n",
      " [-1.54994580e+00  9.28293222e+00]\n",
      " [-1.03819212e+00  2.95323761e+00]\n",
      " [-2.10956676e+00  3.10677258e+00]\n",
      " [-1.18652985e+00  2.78427720e+00]\n",
      " [-2.45809975e+00  7.51178724e+00]\n",
      " [ 2.36960214e+00  9.50716912e-01]\n",
      " [-2.66676007e+00  7.84766052e+00]\n",
      " [-1.49720702e+00  3.21418433e+00]\n",
      " [ 1.32222457e+00  4.17880807e+00]\n",
      " [-4.87271301e-01  3.32858293e+00]\n",
      " [-1.03718771e+00  8.06300134e+00]\n",
      " [-1.60496819e+00  2.97425420e+00]\n",
      " [-1.50372568e+00  1.92385320e+00]\n",
      " [-7.85412206e-01  8.45312331e+00]\n",
      " [-1.75783190e+00  2.97449321e+00]\n",
      " [ 1.19008992e+00  4.72773123e+00]\n",
      " [ 2.14043942e+00  7.06066610e-01]\n",
      " [-1.03540116e+00  8.20559195e+00]\n",
      " [ 1.25471244e+00  8.96331565e-02]\n",
      " [ 5.95676822e-01  4.08614263e+00]\n",
      " [ 1.27955338e+00  1.05789418e+00]\n",
      " [ 1.72955064e+00  1.14729369e+00]\n",
      " [-9.49041610e-01  8.46424331e+00]\n",
      " [ 9.35325115e-01  5.33179296e+00]\n",
      " [ 2.36923352e+00  7.94735861e-01]\n",
      " [ 4.28576743e-01  4.97399710e+00]\n",
      " [-2.04758277e+00  6.65428520e+00]\n",
      " [-1.45672617e+00  7.48669893e+00]\n",
      " [ 5.29417185e-01  3.80792420e+00]\n",
      " [ 1.78194802e+00  9.08151155e-01]\n",
      " [-1.95575053e+00  8.61631686e+00]\n",
      " [-1.74572014e+00  3.01190457e+00]\n",
      " [-1.17979111e+00  3.12767494e+00]\n",
      " [ 1.16411070e+00  3.79132988e+00]\n",
      " [ 1.36155806e+00  1.36638252e+00]\n",
      " [ 2.60137487e+00  1.08799459e+00]\n",
      " [ 2.72396035e-01  5.46996004e+00]\n",
      " [-3.12240736e+00  3.28167398e+00]\n",
      " [-5.88085172e-01  8.61427320e+00]\n",
      " [ 1.66909648e+00 -4.36378231e-01]\n",
      " [-6.82774903e-01  7.67490317e+00]\n",
      " [ 2.36790645e+00  5.52190878e-01]\n",
      " [ 1.05241733e+00  4.54498095e+00]\n",
      " [ 2.22707373e+00  1.26296996e+00]\n",
      " [ 2.43934644e+00 -7.25099666e-02]\n",
      " [ 1.34471770e+00  4.85711133e+00]\n",
      " [-1.31454942e+00  6.83904013e+00]\n",
      " [ 9.82570091e-01  5.37530962e+00]\n",
      " [-1.06295223e+00  2.20755388e+00]\n",
      " [-1.60712495e+00  3.56452854e+00]\n",
      " [ 1.57322172e+00  4.83933793e-01]\n",
      " [-2.17851338e+00  8.08585131e+00]\n",
      " [ 1.83375842e+00  7.54036153e-01]\n",
      " [ 2.10616050e+00  3.49513189e+00]\n",
      " [-1.64338755e+00  7.52691964e+00]\n",
      " [ 1.10550448e+00  1.26389129e+00]\n",
      " [ 1.61152972e+00  1.82347242e+00]\n",
      " [ 4.59534668e-01  5.44982630e+00]\n",
      " [-5.38023054e-01  3.01641891e+00]\n",
      " [ 1.67841499e+00  6.09047389e-01]\n",
      " [-1.01214966e+00  3.60254338e+00]\n",
      " [ 1.34195197e+00  5.93573847e-01]\n",
      " [ 1.42811550e+00  1.62435083e+00]\n",
      " [ 2.04505527e+00  1.12515470e+00]\n",
      " [ 1.67280531e+00  6.59300571e-01]\n",
      " [-1.35863899e+00  2.32200809e+00]\n",
      " [ 1.13078931e+00  9.35620856e-01]\n",
      " [-1.73896306e+00  1.94799775e+00]\n",
      " [-3.40258925e-01  8.16733925e+00]\n",
      " [-1.63793622e+00  2.43329317e+00]\n",
      " [-1.68754414e+00  2.24107546e+00]\n",
      " [ 2.43040639e+00 -6.35709334e-02]\n",
      " [-1.37998039e+00  7.18503804e+00]\n",
      " [-1.25245465e+00  2.33911505e+00]\n",
      " [-2.39482483e+00  3.39806103e+00]\n",
      " [-2.09183352e+00  7.48142543e+00]\n",
      " [ 4.88382309e-01  3.26801777e+00]\n",
      " [-5.39428614e-01  7.45631776e+00]\n",
      " [-2.59201821e+00  8.07635945e+00]\n",
      " [-1.04656513e+00  2.96483837e+00]\n",
      " [ 1.25566754e+00  3.38204112e+00]\n",
      " [-1.62150422e+00  4.27191636e+00]\n",
      " [ 1.86922139e+00  5.44132083e+00]\n",
      " [-1.76404140e+00  2.22222995e+00]\n",
      " [-1.38181918e+00  7.28761248e+00]\n",
      " [ 7.93137001e-03  4.17614316e+00]\n",
      " [-1.10298500e+00  7.30222786e+00]\n",
      " [-1.79351372e+00  7.58086944e+00]\n",
      " [-1.51176949e+00  7.94426307e+00]\n",
      " [ 9.59360742e-01  4.56078645e+00]\n",
      " [-6.01337393e-01  6.29994922e+00]\n",
      " [ 2.24592863e-01  4.77028154e+00]\n",
      " [ 1.56724897e+00  1.78090633e-02]\n",
      " [-1.03395259e+00  2.92105785e+00]\n",
      " [-9.22268640e-01  8.09888579e+00]\n",
      " [-1.88609638e+00  2.24834407e+00]\n",
      " [ 1.86873582e+00  9.56103760e-01]\n",
      " [ 1.10123507e+00  4.88977075e+00]\n",
      " [-1.93213725e+00  8.30643453e+00]\n",
      " [ 6.70478769e-01  4.04094275e+00]\n",
      " [ 7.43873988e-01  4.12240568e+00]\n",
      " [ 1.64003761e+00  1.81948989e+00]\n",
      " [ 8.15468056e-01  4.78526116e+00]\n",
      " [-2.63274574e+00  2.63109786e+00]\n",
      " [-9.61076361e-01  1.27407596e+00]\n",
      " [ 2.13979079e-01  4.88542535e+00]\n",
      " [ 1.43472182e+00  1.30662037e+00]\n",
      " [ 1.21387411e+00  3.64795042e+00]\n",
      " [ 1.08272576e+00  4.06271877e+00]\n",
      " [-1.22605234e+00  8.29620146e+00]\n",
      " [ 1.48170052e+00  6.90074595e-01]\n",
      " [ 1.89593761e+00  5.18540259e+00]\n",
      " [-1.32356154e+00  4.13050840e+00]\n",
      " [-1.14989863e+00  7.89325283e+00]\n",
      " [ 2.46915842e+00  1.67877140e+00]\n",
      " [ 2.31102276e+00  1.30380848e+00]\n",
      " [ 5.72793810e-01  4.08805543e+00]\n",
      " [-9.67794989e-01  3.12186125e+00]\n",
      " [ 2.62492001e+00  9.50194405e-01]\n",
      " [ 1.68353782e+00  4.19583243e+00]\n",
      " [-2.22131717e+00  2.73050691e+00]\n",
      " [-1.57846247e+00  3.03445802e+00]\n",
      " [ 8.15155229e-02  4.56742235e+00]\n",
      " [ 1.43289271e+00  4.37679234e+00]\n",
      " [ 1.06269622e+00  5.17635143e+00]\n",
      " [ 7.67522789e-01  4.39759671e+00]\n",
      " [ 2.47019077e+00  1.31451315e+00]\n",
      " [-1.73163168e+00  7.16447286e+00]\n",
      " [ 3.47138300e-01  3.45177657e+00]\n",
      " [-1.00140436e+00  2.84881778e+00]\n",
      " [ 1.01618041e+00  4.48527047e+00]\n",
      " [ 5.59529363e-01  4.21400660e+00]\n",
      " [-2.11821046e+00  2.03478126e+00]\n",
      " [-1.36219420e+00  2.38333321e+00]\n",
      " [-2.78366586e+00  2.99211541e+00]\n",
      " [ 1.65225163e+00  3.65582842e+00]\n",
      " [-1.93960658e+00  2.18943582e+00]\n",
      " [-1.81487687e+00  7.97832190e+00]\n",
      " [ 1.20212540e+00  3.64414685e+00]\n",
      " [-9.69200946e-01  3.26721702e+00]\n",
      " [ 1.86985974e+00 -1.07938624e-01]\n",
      " [-1.80701134e+00  2.06773859e+00]\n",
      " [ 1.21767506e+00  3.89290127e+00]\n",
      " [-1.48368917e+00  6.00777418e+00]\n",
      " [-1.56387985e+00  2.85349910e+00]\n",
      " [-6.86210297e-01  8.68285664e+00]\n",
      " [ 1.07627418e+00  4.68480619e+00]\n",
      " [-9.75986627e-01  6.73761577e+00]\n",
      " [ 1.37964693e+00  4.54826443e+00]\n",
      " [-1.64129611e+00  2.68097255e+00]\n",
      " [-1.84892963e-03  4.58145668e+00]\n",
      " [ 1.71444449e+00  5.02521524e+00]\n",
      " [-1.40524304e+00  7.72611315e+00]\n",
      " [-7.08184904e-01  2.50421275e+00]\n",
      " [-8.85798374e-01  2.64585078e+00]\n",
      " [ 1.98436909e+00  4.89556738e-01]\n",
      " [ 2.95195825e+00 -3.44327355e-01]\n",
      " [ 4.31891060e-01  4.33495456e+00]\n",
      " [-1.86621694e+00  7.62549400e+00]\n",
      " [ 2.52706430e+00  6.17812202e-01]\n",
      " [ 2.04067185e+00  4.54845114e-01]\n",
      " [-2.58043836e+00  3.18844294e+00]\n",
      " [ 1.61990909e+00  6.76452867e-02]\n",
      " [-2.58802708e+00  3.13117134e+00]\n",
      " [ 4.43598630e-01  3.11530945e+00]\n",
      " [-4.56773649e-01  7.30600872e+00]\n",
      " [-1.12867566e+00  7.80509789e+00]\n",
      " [ 2.13003529e+00  5.19209620e+00]\n",
      " [ 1.00372519e+00  4.19147702e+00]\n",
      " [-1.39346767e+00  8.74641672e+00]\n",
      " [ 7.28098690e-01  3.85531444e+00]\n",
      " [ 8.93499638e-01  1.01093082e+00]\n",
      " [-1.10782972e+00  2.92014479e+00]\n",
      " [ 7.89338559e-01  4.33748653e+00]\n",
      " [ 1.97553917e+00  7.18989132e-01]\n",
      " [-1.24902582e+00  3.08533972e+00]\n",
      " [-1.07768797e+00  8.88106128e+00]\n",
      " [-1.86849125e+00  3.07982487e+00]\n",
      " [ 2.76808540e+00  1.08782923e+00]\n",
      " [ 2.77180174e-01  4.84428322e+00]\n",
      " [ 3.41085289e+00  8.72309369e-01]\n",
      " [-1.58084155e+00  7.55307742e+00]\n",
      " [-1.53027550e+00  7.70542113e+00]\n",
      " [-1.82455840e+00  7.35958960e+00]\n",
      " [-1.68568257e+00  7.95339446e+00]\n",
      " [-1.65104622e+00  3.44598961e+00]\n",
      " [-1.30440901e+00  3.00311934e+00]\n",
      " [-7.30698168e-01  6.24208856e+00]\n",
      " [ 2.40615694e+00  4.87047502e+00]\n",
      " [-1.53631328e+00  3.01443916e+00]\n",
      " [ 1.48859977e+00  6.51633844e-01]\n",
      " [ 5.14320434e-01  4.62733684e+00]\n",
      " [-1.81469750e+00  3.29009724e+00]\n",
      " [-1.93731055e+00  3.91361274e+00]\n",
      " [-6.14907097e-01  3.94963585e+00]\n",
      " [ 2.03169783e+00  1.96807561e-01]\n",
      " [ 2.14917144e+00  1.03697228e+00]\n",
      " [-1.36999388e+00  7.76953035e+00]\n",
      " [ 9.14338767e-01  4.55014643e+00]\n",
      " [ 3.33818506e-01  4.93645836e+00]\n",
      " [-2.15968109e+00  3.41003096e+00]\n",
      " [ 1.36678633e+00  6.34971633e-01]\n",
      " [-5.71099336e-01  8.13306058e+00]\n",
      " [-1.00552592e+00  3.08400540e+00]\n",
      " [ 1.49493180e+00  3.85848832e+00]\n",
      " [-5.90447667e-01  7.69493053e+00]\n",
      " [ 7.15177948e-01  5.41334556e+00]\n",
      " [ 2.11390250e+00  1.24743587e+00]\n",
      " [ 1.20083098e+00  6.01671730e-01]\n",
      " [-2.54576750e+00  3.15025055e+00]\n",
      " [-1.95866665e+00  2.43008647e+00]\n",
      " [ 2.33812285e+00  3.43116792e+00]\n",
      " [ 3.35320909e+00  1.69958043e+00]\n",
      " [ 1.84287117e+00  7.26928839e-02]\n",
      " [ 1.32000621e+00  1.40428145e+00]\n",
      " [ 2.09680545e+00  4.84741412e+00]\n",
      " [-1.24307904e+00  8.15166254e+00]\n",
      " [-1.85908090e+00  7.78874716e+00]\n",
      " [ 2.74666646e+00  1.54543482e+00]\n",
      " [ 2.60778282e+00  1.08890025e+00]\n",
      " [ 1.65991049e+00  3.56289184e+00]\n",
      " [ 2.35151259e+00  8.28001297e-01]\n",
      " [ 2.22322228e+00  8.38773426e-01]\n",
      " [ 3.22881491e+00  1.13171965e+00]\n",
      " [-1.55876720e+00  7.24816210e+00]\n",
      " [-6.46956784e-01  3.42941343e+00]\n",
      " [-1.32688818e+00  8.51530794e+00]\n",
      " [ 9.17198564e-01  3.90570036e+00]\n",
      " [ 2.29469533e+00 -7.65891994e-01]\n",
      " [ 1.81559810e+00  1.11969719e+00]\n",
      " [-1.12016775e+00  7.11031582e+00]\n",
      " [-1.65507124e+00  8.61416749e+00]\n",
      " [-1.27567815e+00  7.96776461e+00]\n",
      " [ 1.97369770e+00  1.57979848e+00]\n",
      " [ 2.51834185e+00  1.39176615e+00]\n",
      " [ 4.38990142e-01  4.53592883e+00]\n",
      " [ 3.69478657e-01  7.79110522e+00]\n",
      " [-1.79145759e+00  2.74966896e+00]]\n"
     ]
    }
   ],
   "source": [
    "from sklearn.datasets import make_blobs\n",
    "\n",
    "x, y = make_blobs(300, centers=4, cluster_std=0.6, random_state=0)\n",
    "print(x)"
   ]
  },
  {
   "cell_type": "markdown",
   "metadata": {},
   "source": [
    "### Plotando dados com matplotlib\n",
    "\n",
    "```scatter``` gera um gráfico de dispersão.\n",
    "\n",
    "```python\n",
    "plot.scatter(\n",
    "    x[:, 0],       # Coordenadas X\n",
    "    x[:, 1],       # Coordenadas Y\n",
    "    s=25           # Tamanho das bolinhas\n",
    ")\n",
    "```\n",
    "\n",
    "O comando ```[:, n]``` informa que se deseja todos os item do primeiro array, e para cada um, o n-elemento dele.\n",
    "Equivale à:\n",
    "```python\n",
    "a = [\n",
    "    [1, 2],\n",
    "    [3, 4],\n",
    "    [5, 6]\n",
    "]\n",
    "\n",
    "b = [ el[n] for el in a ]\n",
    "```"
   ]
  },
  {
   "cell_type": "code",
   "execution_count": 2,
   "metadata": {},
   "outputs": [
    {
     "data": {
      "text/plain": [
       "<matplotlib.collections.PathCollection at 0x22b2fdee9b0>"
      ]
     },
     "execution_count": 2,
     "metadata": {},
     "output_type": "execute_result"
    },
    {
     "data": {
      "image/png": "[encoded data removed]",
      "text/plain": [
       "<Figure size 432x288 with 1 Axes>"
      ]
     },
     "metadata": {
      "needs_background": "light"
     },
     "output_type": "display_data"
    }
   ],
   "source": [
    "import matplotlib.pyplot as plot\n",
    "\n",
    "plot.scatter(x[:, 0], x[:, 1], s=25)"
   ]
  },
  {
   "cell_type": "markdown",
   "metadata": {},
   "source": [
    "### Usando K-Means\n",
    "\n",
    "K-Means é um algorítmo que divide as observações em grupos (clusters). O método ```fit``` treina o modelo.\n",
    "\n",
    "```python\n",
    "KMeans( \n",
    "    4,                    # Quantidade de clusters\n",
    "    random_state=0        # Indica se os dados são aleatórios ou não à cada execução \n",
    ").fit(x)                  # Dados para treino"
   ]
  },
  {
   "cell_type": "code",
   "execution_count": 3,
   "metadata": {},
   "outputs": [
    {
     "name": "stdout",
     "output_type": "stream",
     "text": [
      "[[ 1.98258281  0.86771314]\n",
      " [ 0.94973532  4.41906906]\n",
      " [-1.37324398  7.75368871]\n",
      " [-1.58438467  2.83081263]]\n"
     ]
    },
    {
     "data": {
      "text/plain": [
       "<matplotlib.collections.PathCollection at 0x22b32467fa0>"
      ]
     },
     "execution_count": 3,
     "metadata": {},
     "output_type": "execute_result"
    },
    {
     "data": {
      "image/png": "[encoded data removed]",
      "text/plain": [
       "<Figure size 432x288 with 1 Axes>"
      ]
     },
     "metadata": {
      "needs_background": "light"
     },
     "output_type": "display_data"
    }
   ],
   "source": [
    "from sklearn.cluster import KMeans\n",
    "\n",
    "clusters = KMeans(4, random_state=0).fit(x)\n",
    "centers = clusters.cluster_centers_\n",
    "\n",
    "# Plota somente os centros dos clusters\n",
    "print(centers)"
   ]
  },
  {
   "cell_type": "code",
   "execution_count": 7,
   "metadata": {},
   "outputs": [
    {
     "data": {
      "text/plain": [
       "<matplotlib.collections.PathCollection at 0x22b365cb8e0>"
      ]
     },
     "execution_count": 7,
     "metadata": {},
     "output_type": "execute_result"
    },
    {
     "data": {
      "image/png": "[encoded data removed]",
      "text/plain": [
       "<Figure size 432x288 with 1 Axes>"
      ]
     },
     "metadata": {
      "needs_background": "light"
     },
     "output_type": "display_data"
    }
   ],
   "source": [
    "plot.scatter(centers[:, 0], centers[:, 1], c=\"black\", s=200)"
   ]
  },
  {
   "cell_type": "code",
   "execution_count": 5,
   "metadata": {},
   "outputs": [
    {
     "data": {
      "text/plain": [
       "<matplotlib.collections.PathCollection at 0x22b3650d8a0>"
      ]
     },
     "execution_count": 5,
     "metadata": {},
     "output_type": "execute_result"
    },
    {
     "data": {
      "image/png": "[encoded data removed]",
      "text/plain": [
       "<Figure size 432x288 with 1 Axes>"
      ]
     },
     "metadata": {
      "needs_background": "light"
     },
     "output_type": "display_data"
    }
   ],
   "source": [
    "predicted = clusters.predict(x)\n",
    "\n",
    "plot.scatter(x[:, 0], x[:, 1], c=predicted, s=25, cmap=\"viridis\")\n",
    "plot.scatter(centers[:, 0], centers[:, 1], c=\"black\", s=200, alpha=0.5)"
   ]
  }
 ],
 "metadata": {
  "kernelspec": {
   "display_name": "Python 3.10.5 64-bit",
   "language": "python",
   "name": "python3"
  },
  "language_info": {
   "codemirror_mode": {
    "name": "ipython",
    "version": 3
   },
   "file_extension": ".py",
   "mimetype": "text/x-python",
   "name": "python",
   "nbconvert_exporter": "python",
   "pygments_lexer": "ipython3",
   "version": "3.10.5"
  },
  "orig_nbformat": 4,
  "vscode": {
   "interpreter": {
    "hash": "f9e4dc9f9849216cde722f1d05d16f9d6e39392894aab521b220488c9419cf33"
   }
  }
 },
 "nbformat": 4,
 "nbformat_minor": 2
}
